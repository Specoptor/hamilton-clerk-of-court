{
 "cells": [
  {
   "cell_type": "code",
   "execution_count": 1,
   "metadata": {
    "collapsed": true,
    "ExecuteTime": {
     "end_time": "2023-10-25T06:34:19.261035800Z",
     "start_time": "2023-10-25T06:34:19.207678500Z"
    }
   },
   "outputs": [],
   "source": [
    "import json\n",
    "\n",
    "with open('parsed_pdfs.json', 'r') as f:\n",
    "    parsed_pdfs = json.load(f)"
   ]
  },
  {
   "cell_type": "code",
   "execution_count": 2,
   "outputs": [],
   "source": [
    "from utils import extract_datapoints_from_pdf\n",
    "\n",
    "datapoints_dict = {}\n",
    "for case_number, pdf in parsed_pdfs.items():\n",
    "    datapoints_dict[case_number] = extract_datapoints_from_pdf(pdf)"
   ],
   "metadata": {
    "collapsed": false,
    "ExecuteTime": {
     "end_time": "2023-10-25T06:34:20.368658400Z",
     "start_time": "2023-10-25T06:34:19.264041600Z"
    }
   }
  },
  {
   "cell_type": "code",
   "execution_count": 3,
   "outputs": [],
   "source": [
    "with open('datapoints_sandbox.json', 'w') as f:\n",
    "    json.dump(datapoints_dict, f)"
   ],
   "metadata": {
    "collapsed": false,
    "ExecuteTime": {
     "end_time": "2023-10-25T06:34:20.376205900Z",
     "start_time": "2023-10-25T06:34:20.370659800Z"
    }
   }
  },
  {
   "cell_type": "markdown",
   "source": [],
   "metadata": {
    "collapsed": false
   }
  }
 ],
 "metadata": {
  "kernelspec": {
   "display_name": "Python 3",
   "language": "python",
   "name": "python3"
  },
  "language_info": {
   "codemirror_mode": {
    "name": "ipython",
    "version": 2
   },
   "file_extension": ".py",
   "mimetype": "text/x-python",
   "name": "python",
   "nbconvert_exporter": "python",
   "pygments_lexer": "ipython2",
   "version": "2.7.6"
  }
 },
 "nbformat": 4,
 "nbformat_minor": 0
}
